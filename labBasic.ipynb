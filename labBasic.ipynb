{
 "cells": [
  {
   "cell_type": "code",
   "execution_count": 3,
   "metadata": {},
   "outputs": [
    {
     "name": "stdout",
     "output_type": "stream",
     "text": [
      "5\n",
      "15\n",
      "Hello\n",
      "hellohellohello\n",
      "--------------------------------------------------------------------------------\n"
     ]
    }
   ],
   "source": [
    "print(5)\n",
    "print(5*3)\n",
    "print(\"Hello\")\n",
    "print(\"hello\" *3)\n",
    "print(\"----\" *20)\n"
   ]
  },
  {
   "cell_type": "code",
   "execution_count": 7,
   "metadata": {},
   "outputs": [
    {
     "name": "stdout",
     "output_type": "stream",
     "text": [
      "1 2 3 4\n",
      "1234\n",
      "1__2__3__4\n",
      "1\t2\t3\t4\n",
      "1\n",
      "2\n",
      "3\n",
      "4\n"
     ]
    }
   ],
   "source": [
    "print(1,2,3,4)\n",
    "print(1,2,3,4, sep=\"\")\n",
    "print(1,2,3,4, sep=\"__\")\n",
    "print(1,2,3,4, sep=\"\\t\")\n",
    "print(1,2,3,4, sep=\"\\n\")"
   ]
  },
  {
   "cell_type": "code",
   "execution_count": null,
   "metadata": {},
   "outputs": [],
   "source": [
    "# ---- awdwa"
   ]
  },
  {
   "cell_type": "code",
   "execution_count": 14,
   "metadata": {},
   "outputs": [
    {
     "name": "stdout",
     "output_type": "stream",
     "text": [
      "Hello\n",
      "H e l l o\n",
      "H__e__l__l__o\n"
     ]
    }
   ],
   "source": [
    "print(\"Hello\")\n",
    "print(*\"Hello\") # <- распаковка\n",
    "print(*\"Hello\", sep='__')"
   ]
  },
  {
   "cell_type": "code",
   "execution_count": 29,
   "metadata": {},
   "outputs": [
    {
     "name": "stdout",
     "output_type": "stream",
     "text": [
      "AAA\n",
      "B*B*B_CCC\n"
     ]
    }
   ],
   "source": [
    "print(\"AAA\")\n",
    "print(*\"BBB\", end='_', sep='*')\n",
    "print(\"CCC\")"
   ]
  },
  {
   "cell_type": "code",
   "execution_count": 35,
   "metadata": {},
   "outputs": [
    {
     "name": "stdout",
     "output_type": "stream",
     "text": [
      "range(0, 5)\n",
      "0 1 2 3 4\n",
      "1 2 3 4\n",
      "1 3 5 7\n",
      "100 90 80 70 60 50 40 30 20 10\n"
     ]
    }
   ],
   "source": [
    "print(range(5))\n",
    "print(*range(5))\n",
    "print(*range(1,5))\n",
    "print(*range(1,8,2))\n",
    "print(*range(100,0,-10))"
   ]
  },
  {
   "cell_type": "code",
   "execution_count": 41,
   "metadata": {},
   "outputs": [
    {
     "name": "stdout",
     "output_type": "stream",
     "text": [
      "4.5\n",
      "4\n",
      "4.0\n",
      "1\n",
      "256\n"
     ]
    }
   ],
   "source": [
    "print(9/2)\n",
    "print(9//2)\n",
    "print(9//2.0)\n",
    "print(9%2)\n",
    "print(2**8)\n",
    "print(2**8)\n",
    "print(2**8)"
   ]
  },
  {
   "cell_type": "code",
   "execution_count": 42,
   "metadata": {},
   "outputs": [
    {
     "data": {
      "text/plain": [
       "4"
      ]
     },
     "execution_count": 42,
     "metadata": {},
     "output_type": "execute_result"
    }
   ],
   "source": [
    "x = 1\n",
    "x +=1\n",
    "x *= 2\n",
    "x"
   ]
  },
  {
   "cell_type": "code",
   "execution_count": 43,
   "metadata": {},
   "outputs": [
    {
     "name": "stdout",
     "output_type": "stream",
     "text": [
      "True\n",
      "True\n",
      "False\n",
      "False\n",
      "True\n"
     ]
    }
   ],
   "source": [
    "print(1 < 2)\n",
    "print(1 <= 2)\n",
    "print(1 >= 2)\n",
    "print(1 == 2)\n",
    "print(1 != 2)\n"
   ]
  },
  {
   "cell_type": "code",
   "execution_count": 45,
   "metadata": {},
   "outputs": [
    {
     "name": "stdout",
     "output_type": "stream",
     "text": [
      "True\n",
      "True\n",
      "False\n",
      "True\n"
     ]
    }
   ],
   "source": [
    "print(1 < 2 and 1 == 1)\n",
    "print(1 > 2 or 1 == 1)\n",
    "print(1 > 2)\n",
    "print(not 1 > 2)"
   ]
  },
  {
   "cell_type": "code",
   "execution_count": 55,
   "metadata": {},
   "outputs": [
    {
     "name": "stdout",
     "output_type": "stream",
     "text": [
      "10\n",
      "0b1010\n",
      "0b1100\n",
      "  1000 - AND\n",
      "  1110 - OR\n",
      "   110 - XOR\n",
      " 10100 - <<\n",
      "   101 - >>\n"
     ]
    }
   ],
   "source": [
    "x = 0b1010\n",
    "y = 0b1100\n",
    "print(x)\n",
    "print(f\"{x:#b}\")\n",
    "print(f\"{y:#b}\")\n",
    "print(f\"{x&y:>6b} - AND\")\n",
    "print(f\"{x|y:>6b} - OR\")\n",
    "print(f\"{x^y:>6b} - XOR\")\n",
    "print(f\"{x<<1:>6b} - <<\")\n",
    "print(f\"{x>>1:>6b} - >>\")"
   ]
  },
  {
   "cell_type": "code",
   "execution_count": 60,
   "metadata": {},
   "outputs": [
    {
     "name": "stdout",
     "output_type": "stream",
     "text": [
      "yes\n",
      "no\n"
     ]
    }
   ],
   "source": [
    "x = 1\n",
    "y = 2\n",
    "if x != y:\n",
    "    print(\"yes\")\n",
    "if not x == y:\n",
    "    print(\"no\")"
   ]
  },
  {
   "cell_type": "code",
   "execution_count": 61,
   "metadata": {},
   "outputs": [
    {
     "name": "stdout",
     "output_type": "stream",
     "text": [
      "bb\n"
     ]
    }
   ],
   "source": [
    "if x < 0 and y < 0:\n",
    "    print(\"aaa\")\n",
    "else:\n",
    "    if x > 0 and y > 0:\n",
    "        print(\"bb\")"
   ]
  },
  {
   "cell_type": "code",
   "execution_count": 67,
   "metadata": {},
   "outputs": [
    {
     "name": "stdout",
     "output_type": "stream",
     "text": [
      "bbb\n"
     ]
    }
   ],
   "source": [
    "if x < 0 and y < 0:\n",
    "    print(\"aaa\")\n",
    "elif x > 0 and y > 0:\n",
    "        print(\"bbb\")\n",
    "elif x == 0 and y == 0:\n",
    "      print(\"ccc\")\n",
    "else:\n",
    "      print(\"ddd\")"
   ]
  },
  {
   "cell_type": "code",
   "execution_count": 65,
   "metadata": {},
   "outputs": [
    {
     "data": {
      "text/plain": [
       "2"
      ]
     },
     "execution_count": 65,
     "metadata": {},
     "output_type": "execute_result"
    }
   ],
   "source": [
    "x = 1\n",
    "y = 2\n",
    "r = x if x > y else y\n",
    "r"
   ]
  },
  {
   "cell_type": "code",
   "execution_count": 68,
   "metadata": {},
   "outputs": [
    {
     "data": {
      "text/plain": [
       "'n'"
      ]
     },
     "execution_count": 68,
     "metadata": {},
     "output_type": "execute_result"
    }
   ],
   "source": [
    "x = 1\n",
    "y = 2\n",
    "r = \"y\" if x > y else \"n\"\n",
    "r"
   ]
  },
  {
   "cell_type": "code",
   "execution_count": 72,
   "metadata": {},
   "outputs": [
    {
     "name": "stdout",
     "output_type": "stream",
     "text": [
      "22\n"
     ]
    }
   ],
   "source": [
    "x = 2\n",
    "match x:\n",
    "    case 1: print(11)\n",
    "    case 2: print(22)\n",
    "    case 3: print(33)\n",
    "    case 4: print(44)\n",
    "    case 5: print(55)\n",
    "    case _: print(-1)"
   ]
  },
  {
   "cell_type": "code",
   "execution_count": 76,
   "metadata": {},
   "outputs": [
    {
     "name": "stdout",
     "output_type": "stream",
     "text": [
      "52\n"
     ]
    }
   ],
   "source": [
    "x = 5\n",
    "y = 2\n",
    "match x,y:\n",
    "    case 1,1: print(11)\n",
    "    case 2,5: print(25)\n",
    "    case 4,_: print(4)\n",
    "    case 5,2: print(52)\n",
    "    case _,_: print(-1)"
   ]
  },
  {
   "cell_type": "code",
   "execution_count": 77,
   "metadata": {},
   "outputs": [
    {
     "name": "stdout",
     "output_type": "stream",
     "text": [
      "hello\n",
      "25\n",
      "3.14\n"
     ]
    }
   ],
   "source": [
    "for i in [\"hello\", 25, 3.14]:\n",
    "    print(i)"
   ]
  },
  {
   "cell_type": "code",
   "execution_count": 78,
   "metadata": {},
   "outputs": [
    {
     "name": "stdout",
     "output_type": "stream",
     "text": [
      "0\n",
      "1\n",
      "2\n"
     ]
    }
   ],
   "source": [
    "for i in [0, 1, 2]:\n",
    "    print(i)"
   ]
  },
  {
   "cell_type": "code",
   "execution_count": 81,
   "metadata": {},
   "outputs": [
    {
     "name": "stdout",
     "output_type": "stream",
     "text": [
      "0, 10, 20, 30, 40, 50, 60, 70, 80, 90, "
     ]
    }
   ],
   "source": [
    "for i in range(0, 100, 10):\n",
    "    print(i, end=', ')"
   ]
  },
  {
   "cell_type": "code",
   "execution_count": 83,
   "metadata": {},
   "outputs": [
    {
     "name": "stdout",
     "output_type": "stream",
     "text": [
      "H e l l o "
     ]
    }
   ],
   "source": [
    "for i in \"Hello\":\n",
    "    print(i, end=' ')"
   ]
  }
 ],
 "metadata": {
  "kernelspec": {
   "display_name": "Python 3",
   "language": "python",
   "name": "python3"
  },
  "language_info": {
   "codemirror_mode": {
    "name": "ipython",
    "version": 3
   },
   "file_extension": ".py",
   "mimetype": "text/x-python",
   "name": "python",
   "nbconvert_exporter": "python",
   "pygments_lexer": "ipython3",
   "version": "3.11.5"
  },
  "orig_nbformat": 4
 },
 "nbformat": 4,
 "nbformat_minor": 2
}
