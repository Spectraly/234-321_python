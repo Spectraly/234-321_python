{
 "cells": [
  {
   "cell_type": "code",
   "execution_count": 331,
   "metadata": {},
   "outputs": [],
   "source": [
    "import random\n",
    "def check (field,x,y):\n",
    "    for i in range(-1,2):\n",
    "        for j in range(-1,2):\n",
    "            try:\n",
    "                if x+i != -1 and y+j != -1 and field[x+i][y+j] == \"*\":\n",
    "                    field[x][y] = int(field[x][y]) + 1\n",
    "            except:\n",
    "                0\n",
    "    return field\n",
    "    \n",
    "        \n",
    "def sapper(height:int = 9,width:int = 9,minesCount:int = 10,mines = ((),)):\n",
    "    field = [[\"0\" for j in range(width)] for i in range(height)]\n",
    "    if minesCount < len(mines):\n",
    "        return \"В кортеже слишком много мин\"\n",
    "    preset = 0\n",
    "    if len(mines) != 0 and mines != ((),):\n",
    "            try:\n",
    "                for i in mines:\n",
    "                    field[i[0]][i[1]] = \"*\"\n",
    "                    preset +=1\n",
    "            except:\n",
    "                return \"Кортеж введен неверно\"\n",
    "    while preset < minesCount:\n",
    "        x = random.randint(0,width-1)\n",
    "        y = random.randint(0,height-1)\n",
    "        if field[y][x] != \"*\":\n",
    "            field[y][x] = \"*\"\n",
    "            preset +=1\n",
    "    for i in range(height):\n",
    "        for j in range(width):\n",
    "            field = check(field,i,j)\n",
    "    \n",
    "    for i in range(height):\n",
    "        st = \"\"\n",
    "        for j in range(width):\n",
    "            st += str(field[i][j])\n",
    "        print(st)"
   ]
  },
  {
   "cell_type": "code",
   "execution_count": 332,
   "metadata": {},
   "outputs": [
    {
     "name": "stdout",
     "output_type": "stream",
     "text": [
      "222221111\n",
      "**2**11*2\n",
      "*4322234*\n",
      "2*1012**3\n",
      "11212*5*2\n",
      "001*22*21\n",
      "222111221\n",
      "**42101*1\n",
      "3***10111\n"
     ]
    }
   ],
   "source": [
    "sapper(minesCount= 20)"
   ]
  },
  {
   "cell_type": "code",
   "execution_count": 333,
   "metadata": {},
   "outputs": [
    {
     "name": "stdout",
     "output_type": "stream",
     "text": [
      "0001*1000\n",
      "221111000\n",
      "**1000000\n",
      "221000000\n",
      "000011100\n",
      "11212*100\n",
      "2*2*32200\n",
      "*2212*221\n",
      "110012*2*\n"
     ]
    }
   ],
   "source": [
    "sapper()"
   ]
  },
  {
   "cell_type": "code",
   "execution_count": 334,
   "metadata": {},
   "outputs": [
    {
     "name": "stdout",
     "output_type": "stream",
     "text": [
      "11100000000000111000\n",
      "1*1000000000001*1000\n",
      "23310011100000111000\n",
      "1**1001*100000011100\n",
      "1221001110000001*100\n",
      "00000000000001121100\n",
      "00000000000001*10000\n",
      "11100000000001110000\n",
      "2*200000000011100000\n",
      "2*20000000001*100000\n"
     ]
    }
   ],
   "source": [
    "sapper(10,20,mines=((1,1),(9,1)))"
   ]
  },
  {
   "cell_type": "code",
   "execution_count": null,
   "metadata": {},
   "outputs": [],
   "source": []
  },
  {
   "cell_type": "code",
   "execution_count": 335,
   "metadata": {},
   "outputs": [],
   "source": [
    "def start_generate(n, m):\n",
    "    if random.choice([True, False]):\n",
    "        if random.choice([True, False]):\n",
    "            start = (1, random.randint(1, m ))\n",
    "        else:\n",
    "            start = (n , random.randint(1, m ))\n",
    "    else:\n",
    "        if random.choice([True, False]):\n",
    "            start = (random.randint(1, n ), 1)\n",
    "        else:\n",
    "            start = (random.randint(1, n ), m )\n",
    "    return start\n",
    "\n",
    "\n",
    "def finish_generate(start, n, m):\n",
    "    return n +1 - start[0], m +1 - start[1]\n",
    "                    \n",
    "def transition_choice(x, y, rm):\n",
    "    choice_list = []\n",
    "    if x > 0:\n",
    "        if not rm[x - 1][y]:\n",
    "            choice_list.append((x - 1, y))\n",
    "    if x < len(rm) - 1:\n",
    "        if not rm[x + 1][y]:\n",
    "            choice_list.append((x + 1, y))\n",
    "    if y > 0:\n",
    "        if not rm[x][y - 1]:\n",
    "            choice_list.append((x, y - 1))\n",
    "    if y < len(rm[0]) - 1:\n",
    "        if not rm[x][y + 1]:\n",
    "            choice_list.append((x, y + 1))\n",
    "    if choice_list:\n",
    "        nx, ny = random.choice(choice_list)\n",
    "        if x == nx:\n",
    "            if ny > y:\n",
    "                tx, ty = x * 2, ny * 2 - 1\n",
    "            else:\n",
    "                tx, ty = x * 2, ny * 2 + 1\n",
    "        else:\n",
    "            if nx > x:\n",
    "                tx, ty = nx * 2 - 1, y * 2\n",
    "            else:\n",
    "                tx, ty = nx * 2 + 1, y * 2\n",
    "        return nx, ny, tx, ty\n",
    "    else:\n",
    "        return -1, -1, -1, -1\n",
    "           \n",
    "\n",
    "def genMaze(height:int = 10,width:int = 10,enter = (),exit = ()): \n",
    "    reach_matrix = []\n",
    "    for i in range(height):  \n",
    "        reach_matrix.append([])\n",
    "        for j in range(width):\n",
    "            reach_matrix[i].append(False)\n",
    "    transition_matrix = []\n",
    "    for i in range(height * 2 - 1): \n",
    "        transition_matrix.append([])\n",
    "        for j in range(width * 2 - 1):\n",
    "            if i % 2 == 0 and j % 2 == 0:\n",
    "                transition_matrix[i].append(True)\n",
    "            else:\n",
    "                transition_matrix[i].append(False)\n",
    "    start = start_generate(height, width)\n",
    "    finish = finish_generate(start, height, width)\n",
    "    list_transition = [start]\n",
    "    x, y = start\n",
    "    reach_matrix[x][y] = True\n",
    "    x, y, tx, ty = transition_choice(x, y, reach_matrix)\n",
    "    for i in range(1, width * height):\n",
    "        while not (x >= 0 and y >= 0):\n",
    "            x, y = list_transition[-1]\n",
    "            list_transition.pop()\n",
    "            x, y, tx, ty = transition_choice(x, y, reach_matrix)\n",
    "        reach_matrix[x][y] = True\n",
    "        list_transition.append((x, y))\n",
    "        transition_matrix[tx][ty] = True\n",
    "        x, y, tx, ty = transition_choice(x, y, reach_matrix)\n",
    "    \n",
    "    for i in range(height+2):\n",
    "        st = \"\"\n",
    "        for j in range(width+2):\n",
    "            if i == start[0] and j == start[1]:\n",
    "                st += \"~\"\n",
    "            elif i == finish[0] and j == finish[1]:\n",
    "                st += \"$\"\n",
    "            elif (i == 0 or i == height+1 or j == 0 or j == width+1):\n",
    "                st +=\"█\"\n",
    "            elif transition_matrix[i][j] == True:\n",
    "                st += \" \"\n",
    "            else:\n",
    "                st +=\"█\"\n",
    "            \n",
    "\n",
    "        print(st)\n"
   ]
  },
  {
   "cell_type": "code",
   "execution_count": 336,
   "metadata": {},
   "outputs": [
    {
     "name": "stdout",
     "output_type": "stream",
     "text": [
      "█████████████████\n",
      "██ ███████~█ ████\n",
      "██   █     █   ██\n",
      "████ █ █ █████ ██\n",
      "██   █ █       ██\n",
      "██ ███ ██████████\n",
      "█  █   █     █  █\n",
      "████ ███ ███ █ ██\n",
      "██     █   █   ██\n",
      "██████ ███ ███ ██\n",
      "█  █     █ █ █ ██\n",
      "██ ███$█ █ █ █ ██\n",
      "█████████████████\n"
     ]
    }
   ],
   "source": [
    "genMaze(11,15)"
   ]
  }
 ],
 "metadata": {
  "kernelspec": {
   "display_name": "Python 3",
   "language": "python",
   "name": "python3"
  },
  "language_info": {
   "codemirror_mode": {
    "name": "ipython",
    "version": 3
   },
   "file_extension": ".py",
   "mimetype": "text/x-python",
   "name": "python",
   "nbconvert_exporter": "python",
   "pygments_lexer": "ipython3",
   "version": "3.11.5"
  }
 },
 "nbformat": 4,
 "nbformat_minor": 2
}
