{
 "cells": [
  {
   "cell_type": "code",
   "execution_count": 702,
   "metadata": {},
   "outputs": [
    {
     "name": "stdout",
     "output_type": "stream",
     "text": [
      "**********\n",
      "**********\n",
      "**********\n",
      "**********\n",
      "**********\n"
     ]
    }
   ],
   "source": [
    "for i in range(5):\n",
    "    st = \"\"\n",
    "    for j in range(10):\n",
    "        st +=\"*\"\n",
    "    print(st)"
   ]
  },
  {
   "cell_type": "code",
   "execution_count": 703,
   "metadata": {},
   "outputs": [
    {
     "name": "stdout",
     "output_type": "stream",
     "text": [
      "************\n",
      "*          *\n",
      "*          *\n",
      "*          *\n",
      "*          *\n",
      "*          *\n",
      "************\n"
     ]
    }
   ],
   "source": [
    "st = \"*\"\n",
    "st2 = \"*\"\n",
    "for i in range(10):\n",
    "    st +=\"*\"\n",
    "    st2 += \" \"\n",
    "st +=\"*\"\n",
    "st2 +=\"*\"\n",
    "print(st)\n",
    "for i in range(5):\n",
    "    print(st2)\n",
    "print(st)"
   ]
  },
  {
   "cell_type": "code",
   "execution_count": 704,
   "metadata": {},
   "outputs": [
    {
     "name": "stdout",
     "output_type": "stream",
     "text": [
      "******\n",
      "*****\n",
      "****\n",
      "***\n",
      "**\n",
      "*\n"
     ]
    }
   ],
   "source": [
    "for i in range(6):\n",
    "    st = \"\"\n",
    "    for j in range(6-i):\n",
    "        st +=\"*\"\n",
    "    print(st)"
   ]
  },
  {
   "cell_type": "code",
   "execution_count": 705,
   "metadata": {},
   "outputs": [
    {
     "name": "stdout",
     "output_type": "stream",
     "text": [
      "******\n",
      " *****\n",
      "  ****\n",
      "   ***\n",
      "    **\n",
      "     *\n"
     ]
    }
   ],
   "source": [
    "st = \"******\"\n",
    "for i in range(6):\n",
    "    print(st) \n",
    "    st = st.replace(\"*\",\" \",1)"
   ]
  },
  {
   "cell_type": "code",
   "execution_count": 706,
   "metadata": {},
   "outputs": [
    {
     "name": "stdout",
     "output_type": "stream",
     "text": [
      "\n",
      "*\n",
      "**\n",
      "***\n",
      "****\n",
      "*****\n",
      "******\n"
     ]
    }
   ],
   "source": [
    "for i in range(7):\n",
    "    st = \"\"\n",
    "    for j in range(i):\n",
    "        st +=\"*\"\n",
    "    print(st)"
   ]
  },
  {
   "cell_type": "code",
   "execution_count": 707,
   "metadata": {},
   "outputs": [
    {
     "name": "stdout",
     "output_type": "stream",
     "text": [
      "     *\n",
      "    **\n",
      "   ***\n",
      "  ****\n",
      " *****\n",
      "******\n"
     ]
    }
   ],
   "source": [
    "st = \"      \"\n",
    "for i in range(6):\n",
    "    st = st.replace(\" \",\"*\",1)\n",
    "    print(st[::-1])"
   ]
  },
  {
   "cell_type": "code",
   "execution_count": 708,
   "metadata": {},
   "outputs": [
    {
     "name": "stdout",
     "output_type": "stream",
     "text": [
      "    *    \n",
      "   ***   \n",
      "  *****  \n",
      " ******* \n",
      "  *****  \n",
      "   ***   \n",
      "    *    \n"
     ]
    }
   ],
   "source": [
    "stop = 9\n",
    "a =[]\n",
    "for i in range(1,stop,2):\n",
    "    st =\"\"\n",
    "    for j in range((stop-i)//2):\n",
    "        st +=\" \"\n",
    "    for j in range(i):\n",
    "        st +=\"*\"\n",
    "    for j in range((stop-i)//2):\n",
    "        st +=\" \"\n",
    "    a+= [st]\n",
    "for i in a:\n",
    "    print(i)\n",
    "for i in a[-2::-1]:\n",
    "    print(i)"
   ]
  },
  {
   "cell_type": "code",
   "execution_count": 709,
   "metadata": {},
   "outputs": [
    {
     "name": "stdout",
     "output_type": "stream",
     "text": [
      "******* *******\n",
      "******   ******\n",
      "*****     *****\n",
      "****       ****\n",
      "***         ***\n",
      "**           **\n",
      "***         ***\n",
      "****       ****\n",
      "*****     *****\n",
      "******   ******\n",
      "******* *******\n"
     ]
    }
   ],
   "source": [
    "stop = 13\n",
    "a =[]\n",
    "for i in range(1,stop,2):\n",
    "    st =\"\"\n",
    "    for j in range(i):\n",
    "        st +=\" \"\n",
    "    st = st.center(stop+2,\"*\")\n",
    "    a+= [st]\n",
    "for i in a:\n",
    "    print(i)\n",
    "for i in a[-2::-1]:\n",
    "    print(i)"
   ]
  },
  {
   "cell_type": "code",
   "execution_count": 710,
   "metadata": {},
   "outputs": [
    {
     "name": "stdout",
     "output_type": "stream",
     "text": [
      "4444444\n",
      " 33333 \n",
      "  222  \n",
      "   1   \n",
      "  222  \n",
      " 33333 \n",
      "4444444\n"
     ]
    }
   ],
   "source": [
    "n = 5\n",
    "a =[]\n",
    "stop = 7\n",
    "for i in range(0,stop,2):\n",
    "    st = \"\"\n",
    "    n -=1\n",
    "    for j in range(stop-i):\n",
    "        st+= str(n)\n",
    "    st = st.center(stop,\" \")\n",
    "    a+=[st]\n",
    "for i in a:\n",
    "    print(i)\n",
    "for i in a[-2::-1]:\n",
    "    print(i)\n"
   ]
  },
  {
   "cell_type": "code",
   "execution_count": 711,
   "metadata": {},
   "outputs": [
    {
     "name": "stdout",
     "output_type": "stream",
     "text": [
      "\\        /\n",
      " \\      / \n",
      "  \\    /  \n",
      "   \\  /   \n",
      "    \\/    \n",
      "    /\\    \n",
      "   /  \\   \n",
      "  /    \\  \n",
      " /      \\ \n",
      "/        \\\n"
     ]
    }
   ],
   "source": [
    "a =[]\n",
    "stop = 8\n",
    "for i in range(0,stop+1,2):\n",
    "    st = \"\"\n",
    "    for j in range(stop-i):\n",
    "        st+= \" \"\n",
    "    st+= \"/\"\n",
    "    st= \"\\\\\" +st\n",
    "    st = st.center(stop+2,\" \")\n",
    "    a+=[st]\n",
    "for i in range(0,stop+1,2):\n",
    "    st = \"\"\n",
    "    for j in range(i):\n",
    "        st+= \" \"\n",
    "    st+= \"\\\\\"\n",
    "    st= \"/\" +st\n",
    "    st = st.center(stop+2,\" \")\n",
    "    a+=[st]\n",
    "for i in a:\n",
    "    print(i)\n",
    "\n"
   ]
  },
  {
   "cell_type": "code",
   "execution_count": 712,
   "metadata": {},
   "outputs": [
    {
     "name": "stdout",
     "output_type": "stream",
     "text": [
      "███████████\n",
      "          █\n",
      "███████████\n",
      "█          \n",
      "███████████\n",
      "          █\n",
      "███████████\n",
      "█          \n",
      "███████████\n",
      "          █\n",
      "███████████\n"
     ]
    }
   ],
   "source": [
    "for i in range(11):\n",
    "    st =\"\"\n",
    "    for j in range(10):\n",
    "        if i%2 ==0:\n",
    "            st += \"█\"\n",
    "        else:\n",
    "            st += \" \"\n",
    "    if i%4 == 3:\n",
    "        st = \"█\" +st\n",
    "    else:\n",
    "        st += \"█\"\n",
    "    print(st)"
   ]
  },
  {
   "cell_type": "code",
   "execution_count": 713,
   "metadata": {},
   "outputs": [
    {
     "name": "stdout",
     "output_type": "stream",
     "text": [
      "███████████\n",
      "█          \n",
      "███████████\n",
      "          █\n",
      "███████████\n",
      "█          \n",
      "███████████\n",
      "          █\n",
      "███████████\n",
      "█          \n",
      "███████████\n"
     ]
    }
   ],
   "source": [
    "for i in range(11):\n",
    "    st =\"\"\n",
    "    for j in range(10):\n",
    "        if i%2 ==0:\n",
    "            st += \"█\"\n",
    "        else:\n",
    "            st += \" \"\n",
    "    if i%4 == 1:\n",
    "        st = \"█\" +st\n",
    "    else:\n",
    "        st += \"█\"\n",
    "    print(st)"
   ]
  },
  {
   "cell_type": "code",
   "execution_count": 714,
   "metadata": {},
   "outputs": [
    {
     "name": "stdout",
     "output_type": "stream",
     "text": [
      "██████████\n",
      "          \n",
      "██████████\n",
      "          \n",
      "██████████\n",
      "          \n",
      "██████████\n",
      "          \n",
      "██████████\n",
      "          \n",
      "██████████\n"
     ]
    }
   ],
   "source": [
    "for i in range(11):\n",
    "    st =\"\"\n",
    "    for j in range(10):\n",
    "        if i%2 ==0:\n",
    "            st += \"█\"\n",
    "        else:\n",
    "            st += \" \"\n",
    "    print(st)"
   ]
  },
  {
   "cell_type": "code",
   "execution_count": 715,
   "metadata": {},
   "outputs": [
    {
     "name": "stdout",
     "output_type": "stream",
     "text": [
      "█  █  █  █\n",
      "█  █  █  █\n",
      "█  █  █  █\n",
      "█  █  █  █\n",
      "█  █  █  █\n",
      "█  █  █  █\n",
      "█  █  █  █\n",
      "█  █  █  █\n",
      "█  █  █  █\n",
      "█  █  █  █\n",
      "█  █  █  █\n"
     ]
    }
   ],
   "source": [
    "for i in range(11):\n",
    "    st =\"\"\n",
    "    for j in range(10):\n",
    "        if j%3 ==0:\n",
    "            st += \"█\"\n",
    "        else:\n",
    "            st += \" \"\n",
    "    print(st)"
   ]
  },
  {
   "cell_type": "code",
   "execution_count": 716,
   "metadata": {},
   "outputs": [
    {
     "name": "stdout",
     "output_type": "stream",
     "text": [
      "█ ███ ███ ███ ███ ██\n",
      "█ █ █ █ █ █ █ █ █ █ \n",
      "█ █ █ █ █ █ █ █ █ █ \n",
      "█ █ █ █ █ █ █ █ █ █ \n",
      "███ ███ ███ ███ ███ \n"
     ]
    }
   ],
   "source": [
    "a = []\n",
    "st =\"\"\n",
    "for j in range(20):\n",
    "    \n",
    "    if j%4 !=1:\n",
    "        st += \"█\"\n",
    "    else:\n",
    "        st += \" \"\n",
    "a += [st]\n",
    " \n",
    "for i in range(3):\n",
    "    st =\"\"\n",
    "    for j in range(20):\n",
    "        if j%2 !=1:\n",
    "            st += \"█\"\n",
    "        else:\n",
    "            st += \" \"\n",
    "    a +=[st]\n",
    "st =\"\"\n",
    "for j in range(20):\n",
    "    \n",
    "    if j%4 !=3:\n",
    "        st += \"█\"\n",
    "    else:\n",
    "        st += \" \"\n",
    "a += [st]\n",
    "for i in a:\n",
    "    print(i)"
   ]
  },
  {
   "cell_type": "code",
   "execution_count": 717,
   "metadata": {},
   "outputs": [
    {
     "name": "stdout",
     "output_type": "stream",
     "text": [
      "['█', '█', '█', '█', '█', '█', '█', '█', '█', '█', '█']\n",
      "['█', ' ', ' ', ' ', ' ', ' ', ' ', ' ', ' ', ' ', '█']\n",
      "['█', ' ', '█', '█', '█', '█', '█', '█', '█', ' ', '█']\n",
      "['█', ' ', '█', ' ', ' ', ' ', ' ', ' ', '█', ' ', '█']\n",
      "['█', ' ', '█', ' ', '█', '█', '█', ' ', '█', ' ', '█']\n",
      "['█', ' ', '█', ' ', '█', ' ', '█', ' ', '█', ' ', '█']\n",
      "['█', ' ', '█', ' ', '█', '█', '█', ' ', '█', ' ', '█']\n",
      "['█', ' ', '█', ' ', ' ', ' ', ' ', ' ', '█', ' ', '█']\n",
      "['█', ' ', '█', '█', '█', '█', '█', '█', '█', ' ', '█']\n",
      "['█', ' ', ' ', ' ', ' ', ' ', ' ', ' ', ' ', ' ', '█']\n",
      "['█', '█', '█', '█', '█', '█', '█', '█', '█', '█', '█']\n"
     ]
    }
   ],
   "source": [
    "start = top = left = 0\n",
    "stop = bottom = right = 11\n",
    "a = [[int(j) for j in range(bottom)] for i in range(bottom)]\n",
    "for i in range(left,right):\n",
    "        for j in range(top,bottom):\n",
    "            a[i][j] = \" \"\n",
    "            \n",
    "while top < bottom and left < right:\n",
    "    for i in range(top,bottom):\n",
    "            for j in range(left,right):\n",
    "                if i == top or i == bottom-1 :\n",
    "                    a[i][j] = \"█\"\n",
    "                if j == left or j == right-1:\n",
    "                    a[i][j] = \"█\"\n",
    "    top += 2\n",
    "    left += 2\n",
    "    bottom -= 2\n",
    "    right -= 2\n",
    "\n",
    "for i in a:\n",
    "    print (i) "
   ]
  },
  {
   "cell_type": "code",
   "execution_count": 718,
   "metadata": {},
   "outputs": [
    {
     "name": "stdout",
     "output_type": "stream",
     "text": [
      "['█', '█', '█', '█', '█', '█', '█', '█', '█', '█', '█']\n",
      "[' ', ' ', ' ', ' ', ' ', ' ', ' ', ' ', ' ', ' ', '█']\n",
      "['█', '█', '█', '█', '█', '█', '█', '█', '█', ' ', '█']\n",
      "['█', ' ', ' ', ' ', ' ', ' ', ' ', ' ', '█', ' ', '█']\n",
      "['█', ' ', '█', '█', '█', '█', '█', ' ', '█', ' ', '█']\n",
      "['█', ' ', '█', ' ', ' ', ' ', '█', ' ', '█', ' ', '█']\n",
      "['█', ' ', '█', ' ', '█', '█', '█', ' ', '█', ' ', '█']\n",
      "['█', ' ', '█', ' ', ' ', ' ', ' ', ' ', '█', ' ', '█']\n",
      "['█', ' ', '█', '█', '█', '█', '█', '█', '█', ' ', '█']\n",
      "['█', ' ', ' ', ' ', ' ', ' ', ' ', ' ', ' ', ' ', '█']\n",
      "['█', '█', '█', '█', '█', '█', '█', '█', '█', '█', '█']\n"
     ]
    }
   ],
   "source": [
    "start = top = left = 0\n",
    "stop = bottom = right = 11\n",
    "a = [[int(j) for j in range(bottom)] for i in range(bottom)]\n",
    "for i in range(left,right):\n",
    "        for j in range(top,bottom):\n",
    "            a[i][j] = \"█\"\n",
    "\n",
    "top += 1\n",
    "right -= 1\n",
    "dirx = diry = 1\n",
    "\n",
    "while top < bottom and left < right:\n",
    "    if dirx == 1:\n",
    "        i = top\n",
    "        for j in range(left,right):\n",
    "                a[i][j] = \" \"\n",
    "        left += 1\n",
    "        bottom -= 1\n",
    "    else:\n",
    "        i = bottom-1\n",
    "        for j in range(left,right):\n",
    "                a[i][j] = \" \"\n",
    "        top += 1\n",
    "        right -= 1\n",
    "    dirx *=-1    \n",
    "    \n",
    "    if diry == 1:\n",
    "        for i in range(top,bottom):\n",
    "            j = right-1\n",
    "            a[i][j] = \" \"\n",
    "        top += 1\n",
    "        right -= 1\n",
    "    else:\n",
    "        for i in range(top,bottom):\n",
    "            j = left\n",
    "            a[i][j] = \" \"\n",
    "        left += 1\n",
    "        bottom -= 1\n",
    "\n",
    "    diry *=-1 \n",
    "\n",
    "for i in a:\n",
    "    print (i) "
   ]
  },
  {
   "cell_type": "code",
   "execution_count": 719,
   "metadata": {},
   "outputs": [
    {
     "name": "stdout",
     "output_type": "stream",
     "text": [
      "['█', '█', '█', '█', '█', '█', '█', '█', '█', '█', '█']\n",
      "['█', ' ', ' ', ' ', ' ', ' ', ' ', ' ', ' ', ' ', ' ']\n",
      "['█', ' ', '█', '█', '█', '█', '█', '█', '█', '█', '█']\n",
      "['█', ' ', '█', ' ', ' ', ' ', ' ', ' ', ' ', ' ', '█']\n",
      "['█', ' ', '█', ' ', '█', '█', '█', '█', '█', ' ', '█']\n",
      "['█', ' ', '█', ' ', '█', ' ', ' ', ' ', '█', ' ', '█']\n",
      "['█', ' ', '█', ' ', '█', '█', '█', ' ', '█', ' ', '█']\n",
      "['█', ' ', '█', ' ', ' ', ' ', ' ', ' ', '█', ' ', '█']\n",
      "['█', ' ', '█', '█', '█', '█', '█', '█', '█', ' ', '█']\n",
      "['█', ' ', ' ', ' ', ' ', ' ', ' ', ' ', ' ', ' ', '█']\n",
      "['█', '█', '█', '█', '█', '█', '█', '█', '█', '█', '█']\n"
     ]
    }
   ],
   "source": [
    "start = top = left = 0\n",
    "stop = bottom = right = 11\n",
    "a = [[int(j) for j in range(bottom)] for i in range(bottom)]\n",
    "for i in range(left,right):\n",
    "        for j in range(top,bottom):\n",
    "            a[i][j] = \"█\"\n",
    "\n",
    "top += 1\n",
    "left += 1\n",
    "dirx = -1\n",
    "diry = 1\n",
    "\n",
    "while top < bottom and left < right:\n",
    "    if dirx == 1:\n",
    "        i = bottom-1\n",
    "        for j in range(left,right):\n",
    "                a[i][j] = \" \"\n",
    "        top += 1\n",
    "        left += 1   \n",
    "    else:\n",
    "        i = top\n",
    "        for j in range(left,right):\n",
    "                a[i][j] = \" \"\n",
    "        bottom -= 1\n",
    "        right -= 1\n",
    "    dirx *=-1    \n",
    "    \n",
    "    if diry == 1:\n",
    "        for i in range(top,bottom):\n",
    "            j = left\n",
    "            a[i][j] = \" \"\n",
    "        top += 1\n",
    "        right -= 1\n",
    "    else:\n",
    "        for i in range(top,bottom):\n",
    "            j = right\n",
    "            a[i][j] = \" \"\n",
    "        left += 1\n",
    "        bottom -= 1\n",
    "\n",
    "    diry *=-1 \n",
    "\n",
    "for i in a:\n",
    "    print (i) "
   ]
  }
 ],
 "metadata": {
  "kernelspec": {
   "display_name": "Python 3",
   "language": "python",
   "name": "python3"
  },
  "language_info": {
   "codemirror_mode": {
    "name": "ipython",
    "version": 3
   },
   "file_extension": ".py",
   "mimetype": "text/x-python",
   "name": "python",
   "nbconvert_exporter": "python",
   "pygments_lexer": "ipython3",
   "version": "3.11.5"
  }
 },
 "nbformat": 4,
 "nbformat_minor": 2
}
